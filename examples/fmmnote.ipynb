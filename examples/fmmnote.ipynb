{
 "cells": [
  {
   "cell_type": "code",
   "execution_count": 32,
   "metadata": {},
   "outputs": [
    {
     "name": "stdout",
     "output_type": "stream",
     "text": [
      "Requirement already satisfied: numpy in /Users/tobiasgobel/traceontobias/Traceon/.venv/lib/python3.10/site-packages (2.2.1)\n",
      "Requirement already satisfied: scipy in /Users/tobiasgobel/traceontobias/Traceon/.venv/lib/python3.10/site-packages (1.15.0)\n",
      "Requirement already satisfied: numpy<2.5,>=1.23.5 in /Users/tobiasgobel/traceontobias/Traceon/.venv/lib/python3.10/site-packages (from scipy) (2.2.1)\n"
     ]
    }
   ],
   "source": [
    "!pip install numpy\n",
    "!pip install scipy\n",
    "\n",
    "import scipy\n",
    "import numpy as np\n",
    "from scipy.constants import mu_0\n",
    "import scipy.special as sp"
   ]
  },
  {
   "cell_type": "markdown",
   "metadata": {},
   "source": [
    "What we want to approximate\n",
    "\n",
    "$$ f_x(y) = \\frac{1}{|y - x|}$$\n",
    "\n",
    "where $x$ is a fixed point and $y$ is a variable point. "
   ]
  },
  {
   "cell_type": "code",
   "execution_count": 33,
   "metadata": {},
   "outputs": [],
   "source": [
    "def f(x, y):\n",
    "    rel = y - x\n",
    "    return 1/np.linalg.norm(rel)"
   ]
  },
  {
   "cell_type": "code",
   "execution_count": 34,
   "metadata": {},
   "outputs": [],
   "source": [
    "\n",
    "def spherical_to_cartesian(r, theta, phi):\n",
    "    x = r*np.sin(theta)*np.cos(phi)\n",
    "    y = r*np.sin(theta)*np.sin(phi)\n",
    "    z = r*np.cos(theta)\n",
    "    return x, y, z\n",
    "\n",
    "def cartesian_to_spherical(x, y, z):\n",
    "    r = np.sqrt(x**2 + y**2 + z**2)\n",
    "    theta = np.arccos(z / r)\n",
    "    phi = np.sign(y)*np.arccos(x/np.sqrt(x**2 + y**2))\n",
    "    return r, theta, phi"
   ]
  },
  {
   "cell_type": "markdown",
   "metadata": {},
   "source": [
    "Following https://en.wikipedia.org/wiki/Spherical_multipole_moments\n",
    "\n",
    "and expressing y, x in spherical coordinates as $y = (r, \\theta, \\phi)$ and $x = (r^\\prime, \\theta^\\prime, \\phi^\\prime)$, with the assumption that $r << r^\\prime $, we have\n",
    "\n",
    "\n",
    "\n",
    "$$f(y) = \\sum_{l=0}^\\infty \\sum_{m=-l}^l \\frac{1}{r^\\prime}\\left(\\frac{r}{r^\\prime}\\right)^l\\frac{4\\pi}{2l+1} Y^*(l, m, \\theta^\\prime, \\phi^\\prime)Y(l,m,\\theta, \\phi)$$"
   ]
  },
  {
   "cell_type": "markdown",
   "metadata": {},
   "source": [
    "Here $Y$ is a spherical harmonic function, with a standard implementation in scipy. Convention of scipy of spherical harmonic is given by: https://docs.scipy.org/doc/scipy/reference/generated/scipy.special.sph_harm.html, such that we have to switch both l -> m and theta -> phi."
   ]
  },
  {
   "cell_type": "code",
   "execution_count": 35,
   "metadata": {},
   "outputs": [],
   "source": [
    "def Y(l,m,theta, phi):\n",
    "    return sp.sph_harm_y(l,m,theta, phi)"
   ]
  },
  {
   "cell_type": "code",
   "execution_count": 36,
   "metadata": {},
   "outputs": [],
   "source": [
    "def spherical_approximation(max_l, y, x):\n",
    "    r, theta, phi = cartesian_to_spherical(*y)\n",
    "    rp, phip, thetap = cartesian_to_spherical(*x)\n",
    "\n",
    "    sum = 0\n",
    "    for l in range(0, max_l+1):\n",
    "        for m in range(-l, l+1):\n",
    "            term = 1/rp*(r/rp)**l * 4*np.pi/(2*l+1)* np.conj(Y(l, m,thetap, phip))*Y(l, m, theta, phi)\n",
    "            sum += term\n",
    "    return sum.real"
   ]
  },
  {
   "cell_type": "code",
   "execution_count": 37,
   "metadata": {},
   "outputs": [
    {
     "name": "stdout",
     "output_type": "stream",
     "text": [
      "Approximation: 1.097642599896903\n",
      "True value: 1.0976425998969035\n"
     ]
    }
   ],
   "source": [
    "x = (1, 0, 0)\n",
    "y = (0.1, 0.1, 0.1)\n",
    "max_l = 80\n",
    "print(f'Approximation: {spherical_approximation(max_l, y, x)}')\n",
    "print(f'True value: {f(np.array(x), np.array(y))}')"
   ]
  },
  {
   "cell_type": "markdown",
   "metadata": {},
   "source": [
    "We can do the same for the vector potential, and verify with the analytical solution."
   ]
  },
  {
   "cell_type": "code",
   "execution_count": 54,
   "metadata": {},
   "outputs": [
    {
     "name": "stdout",
     "output_type": "stream",
     "text": [
      "Approximation: A =  [0.74124932 2.22374795 0.74124932]\n",
      "True value: A = [0.74124932 2.22374795 0.74124932]\n"
     ]
    }
   ],
   "source": [
    "def VP_analytical(r, theta, phi, I):\n",
    "    rp, thetap, phip, Ix, Iy, Iz = I\n",
    "    xp, yp, zp = spherical_to_cartesian(rp, thetap, phip)\n",
    "    x, y, z = spherical_to_cartesian(r, theta, phi)\n",
    "    I = [Ix, Iy, Iz]\n",
    "\n",
    "    difference = np.array([x,y,z]) - np.array([xp, yp, zp])\n",
    "    norm = np.linalg.norm(difference)\n",
    "    current = np.array(I)\n",
    "\n",
    "    return current/norm\n",
    "\n",
    "def VP_spherical(L, r, theta, phi, I):\n",
    "    rp, phip, thetap, Ix, Iy, Iz = I\n",
    "    sum = 0\n",
    "    for l in range(0, L):\n",
    "        for m in range(-l, l+1):\n",
    "            term = 1/rp*(r/rp)**l * 4*np.pi/(2*l+1)* np.conj(Y(l, m,thetap, phip))*Y(l, m, theta, phi)\n",
    "            sum += term\n",
    "    return sum.real* np.array([Ix, Iy, Iz])\n",
    "\n",
    "sph = cartesian_to_spherical(.1, 0., 0.1)\n",
    "\n",
    "I = *cartesian_to_spherical(1, 1, 0),1,3,1\n",
    "\n",
    "print(f'Approximation: A =  {VP_spherical(50, *sph, I)}')\n",
    "print(f'True value: A = {VP_analytical(*sph, I)}')"
   ]
  },
  {
   "cell_type": "markdown",
   "metadata": {},
   "source": [
    "We now want to approximate the magnetic field, given by the curl of the vector potential. We can do this by taking the curl of the spherical harmonic expansion of the vector potential. Curl with respect to the spherical coordinates is given by: $$\\nabla \\times A = \\frac{1}{r\\sin\\theta}\\left(\\frac{\\partial}{\\partial \\theta}(\\sin\\theta A_\\phi) - \\frac{\\partial A_\\theta}{\\partial \\phi}\\right)\\hat{r} + \\frac{1}{r}\\left(\\frac{1}{\\sin\\theta}\\frac{\\partial A_r}{\\partial \\phi} - \\frac{\\partial}{\\partial r}(\\sin\\theta A_\\phi)\\right)\\hat{\\theta} + \\frac{1}{r}\\left(\\frac{\\partial}{\\partial r}(\\sin\\theta A_\\theta) - \\frac{\\partial A_r}{\\partial \\theta}\\right)\\hat{\\phi}$$"
   ]
  },
  {
   "cell_type": "code",
   "execution_count": 52,
   "metadata": {},
   "outputs": [
    {
     "name": "stdout",
     "output_type": "stream",
     "text": [
      "numerically:  (0.828395536139892+0.828395536139892j) analytically:  (0.8283955115293443+0.8283955115293443j)\n",
      "numerically:  (0.04947668386101611-0.04947663439364147j) analytically:  (0.04947665912864959-0.0494766591286496j)\n",
      "All tests passed\n"
     ]
    }
   ],
   "source": [
    "def dYdtheta(l,m,theta,phi):\n",
    "    a =  m*np.cos(theta)/np.sin(theta)*Y(l,m,theta, phi)+np.sqrt((l-m)*(l+m+1)+0*1j)*np.exp(-1j*phi)*Y(l,m+1,theta, phi)\n",
    "    return a\n",
    "\n",
    "def dYdphi(l,m,theta,phi):\n",
    "    return 1j*m*Y(l,m,theta, phi)\n",
    "\n",
    "\n",
    "delta = 1e-6\n",
    "l, m = 3,1\n",
    "theta, phi = np.pi/3, np.pi/4\n",
    "f = lambda theta: Y(l, m , theta, phi)\n",
    "derivative_numerically = (f(theta+delta)-f(theta))/delta\n",
    "derivative_analytically = dYdtheta(l, m, theta, phi)\n",
    "\n",
    "print('numerically: ', derivative_numerically,'analytically: ', derivative_analytically)\n",
    "assert np.isclose(derivative_numerically, derivative_analytically)\n",
    "derivative_numerically = (Y(l, m, theta, phi+delta)-Y(l, m , theta, phi))/delta\n",
    "derivative_analytically = dYdphi(l, m, theta, phi)\n",
    "\n",
    "print('numerically: ', derivative_numerically,'analytically: ', derivative_analytically)\n",
    "assert np.isclose(derivative_numerically, derivative_analytically)\n",
    "print('All tests passed')"
   ]
  },
  {
   "cell_type": "markdown",
   "metadata": {},
   "source": [
    "First we have to convert the Vector potential A to spherical coordinates, which is done by: $$A_r = A_x\\sin\\theta\\cos\\phi + A_y\\sin\\theta\\sin\\phi + A_z\\cos\\theta$$\n",
    "$$A_\\theta = A_x\\cos\\theta\\cos\\phi + A_y\\cos\\theta\\sin\\phi - A_z\\sin\\theta$$\n",
    "$$A_\\phi = -A_x\\sin\\phi + A_y\\cos\\phi$$"
   ]
  },
  {
   "cell_type": "code",
   "execution_count": null,
   "metadata": {},
   "outputs": [],
   "source": []
  }
 ],
 "metadata": {
  "kernelspec": {
   "display_name": ".venv",
   "language": "python",
   "name": "python3"
  },
  "language_info": {
   "codemirror_mode": {
    "name": "ipython",
    "version": 3
   },
   "file_extension": ".py",
   "mimetype": "text/x-python",
   "name": "python",
   "nbconvert_exporter": "python",
   "pygments_lexer": "ipython3",
   "version": "3.10.0"
  }
 },
 "nbformat": 4,
 "nbformat_minor": 2
}
