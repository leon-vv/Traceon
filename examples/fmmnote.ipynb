{
 "cells": [
  {
   "cell_type": "code",
   "execution_count": 62,
   "metadata": {},
   "outputs": [
    {
     "name": "stdout",
     "output_type": "stream",
     "text": [
      "Requirement already satisfied: numpy in /Users/tobiasgobel/traceontobias/Traceon/.venv/lib/python3.10/site-packages (2.2.1)\n",
      "Requirement already satisfied: scipy in /Users/tobiasgobel/traceontobias/Traceon/.venv/lib/python3.10/site-packages (1.15.0)\n",
      "Requirement already satisfied: numpy<2.5,>=1.23.5 in /Users/tobiasgobel/traceontobias/Traceon/.venv/lib/python3.10/site-packages (from scipy) (2.2.1)\n"
     ]
    }
   ],
   "source": [
    "!pip install numpy\n",
    "!pip install scipy\n",
    "\n",
    "import scipy\n",
    "from math import factorial\n",
    "import numpy as np\n",
    "from scipy.constants import mu_0\n",
    "import scipy.special as sp"
   ]
  },
  {
   "cell_type": "markdown",
   "metadata": {},
   "source": [
    "What we want to approximate\n",
    "\n",
    "$$ f_x(y) = \\frac{1}{|y - x|}$$\n",
    "\n",
    "where $x$ is a fixed point and $y$ is a variable point. "
   ]
  },
  {
   "cell_type": "code",
   "execution_count": 63,
   "metadata": {},
   "outputs": [],
   "source": [
    "def f(x, y):\n",
    "    rel = y - x\n",
    "    return 1/np.linalg.norm(rel)"
   ]
  },
  {
   "cell_type": "code",
   "execution_count": 64,
   "metadata": {},
   "outputs": [],
   "source": [
    "\n",
    "def spherical_to_cartesian(r, theta, phi):\n",
    "    x = r*np.sin(theta)*np.cos(phi)\n",
    "    y = r*np.sin(theta)*np.sin(phi)\n",
    "    z = r*np.cos(theta)\n",
    "    return x, y, z\n",
    "\n",
    "def cartesian_to_spherical(x, y, z):\n",
    "    r = np.sqrt(x**2 + y**2 + z**2)\n",
    "    theta = np.arccos(z / r)\n",
    "    phi = np.sign(y)*np.arccos(x/np.sqrt(x**2 + y**2))\n",
    "    return r, theta, phi"
   ]
  },
  {
   "cell_type": "markdown",
   "metadata": {},
   "source": [
    "Following https://en.wikipedia.org/wiki/Spherical_multipole_moments\n",
    "\n",
    "and expressing y, x in spherical coordinates as $y = (r, \\theta, \\phi)$ and $x = (r^\\prime, \\theta^\\prime, \\phi^\\prime)$, with the assumption that $r << r^\\prime $, we have\n",
    "\n",
    "\n",
    "\n",
    "$$f(y) = \\sum_{l=0}^\\infty \\sum_{m=-l}^l \\frac{1}{r^\\prime}\\left(\\frac{r}{r^\\prime}\\right)^l\\frac{4\\pi}{2l+1} Y^*(l, m, \\theta^\\prime, \\phi^\\prime)Y(l,m,\\theta, \\phi)$$"
   ]
  },
  {
   "cell_type": "markdown",
   "metadata": {},
   "source": [
    "Here $Y$ is a spherical harmonic function, with a standard implementation in scipy. Convention of scipy of spherical harmonic is given by: https://docs.scipy.org/doc/scipy/reference/generated/scipy.special.sph_harm.html, such that we have to switch both l -> m and theta -> phi."
   ]
  },
  {
   "cell_type": "code",
   "execution_count": 65,
   "metadata": {},
   "outputs": [],
   "source": [
    "def Y(l,m,theta, phi):\n",
    "    return sp.sph_harm_y(l,m,theta, phi)"
   ]
  },
  {
   "cell_type": "markdown",
   "metadata": {},
   "source": [
    "Now with conventions used in traceon pro:\n"
   ]
  },
  {
   "cell_type": "code",
   "execution_count": 78,
   "metadata": {},
   "outputs": [],
   "source": [
    "def O(l, m, r, theta, phi):\n",
    "    pref = np.sqrt(4*np.pi/((2*l+1)*factorial(l-np.abs(m))*factorial(l+np.abs(m))))\n",
    "    return pref*Y(l,m, theta, phi)*r**l\n",
    "\n",
    "def M(l,m, rp, thetap, phip):\n",
    "    pref = np.sqrt(4*np.pi/((2*l+1))*(factorial(l-np.abs(m))*factorial(l+np.abs(m))))\n",
    "    return pref*np.conj(Y(l,m, thetap, phip))*(1/rp**(l+1))"
   ]
  },
  {
   "cell_type": "code",
   "execution_count": 79,
   "metadata": {},
   "outputs": [],
   "source": [
    "def spherical_approximation(max_l, y, x):\n",
    "    r, theta, phi = cartesian_to_spherical(*y)\n",
    "    rp, phip, thetap = cartesian_to_spherical(*x)\n",
    "\n",
    "    sum = 0\n",
    "    for l in range(0, max_l+1):\n",
    "        for m in range(-l, l+1):\n",
    "            O_term = O(l, m, r, theta, phi)\n",
    "            M_term = M(l, m, rp, thetap, phip)\n",
    "            sum += O_term*M_term\n",
    "    return sum.real"
   ]
  },
  {
   "cell_type": "code",
   "execution_count": 80,
   "metadata": {},
   "outputs": [
    {
     "name": "stdout",
     "output_type": "stream",
     "text": [
      "Approximation: 1.0976425998969028\n",
      "True value: 1.0976425998969035\n"
     ]
    }
   ],
   "source": [
    "x = (1, 0, 0)\n",
    "y = (0.1, 0.1, 0.1)\n",
    "max_l = 80\n",
    "print(f'Approximation: {spherical_approximation(max_l, y, x)}')\n",
    "print(f'True value: {f(np.array(x), np.array(y))}')"
   ]
  },
  {
   "cell_type": "markdown",
   "metadata": {},
   "source": [
    "We can do the same for the vector potential, and verify with the analytical solution."
   ]
  },
  {
   "cell_type": "code",
   "execution_count": 54,
   "metadata": {},
   "outputs": [
    {
     "name": "stdout",
     "output_type": "stream",
     "text": [
      "Approximation: A =  [0.74124932 2.22374795 0.74124932]\n",
      "True value: A = [0.74124932 2.22374795 0.74124932]\n"
     ]
    }
   ],
   "source": [
    "def VP_analytical(r, theta, phi, I):\n",
    "    rp, thetap, phip, Ix, Iy, Iz = I\n",
    "    xp, yp, zp = spherical_to_cartesian(rp, thetap, phip)\n",
    "    x, y, z = spherical_to_cartesian(r, theta, phi)\n",
    "    I = [Ix, Iy, Iz]\n",
    "\n",
    "    difference = np.array([x,y,z]) - np.array([xp, yp, zp])\n",
    "    norm = np.linalg.norm(difference)\n",
    "    current = np.array(I)\n",
    "\n",
    "    return current/norm\n",
    "\n",
    "def VP_spherical(L, r, theta, phi, I):\n",
    "    rp, phip, thetap, Ix, Iy, Iz = I\n",
    "    sum = 0\n",
    "    for l in range(0, L):\n",
    "        for m in range(-l, l+1):\n",
    "            term = 1/rp*(r/rp)**l * 4*np.pi/(2*l+1)* np.conj(Y(l, m,thetap, phip))*Y(l, m, theta, phi)\n",
    "            sum += term\n",
    "    return sum.real* np.array([Ix, Iy, Iz])\n",
    "\n",
    "sph = cartesian_to_spherical(.1, 0., 0.1)\n",
    "\n",
    "I = *cartesian_to_spherical(1, 1, 0),1,3,1\n",
    "\n",
    "print(f'Approximation: A =  {VP_spherical(50, *sph, I)}')\n",
    "print(f'True value: A = {VP_analytical(*sph, I)}')"
   ]
  },
  {
   "cell_type": "markdown",
   "metadata": {},
   "source": [
    "We now want to approximate the magnetic field, given by the curl of the vector potential. We can do this by taking the curl of the spherical harmonic expansion of the vector potential. Curl with respect to the spherical coordinates is given by: $$\\nabla \\times A = \\frac{1}{r\\sin\\theta}\\left(\\frac{\\partial}{\\partial \\theta}(\\sin\\theta A_\\phi) - \\frac{\\partial A_\\theta}{\\partial \\phi}\\right)\\hat{r} + \\frac{1}{r}\\left(\\frac{1}{\\sin\\theta}\\frac{\\partial A_r}{\\partial \\phi} - \\frac{\\partial}{\\partial r}(\\sin\\theta A_\\phi)\\right)\\hat{\\theta} + \\frac{1}{r}\\left(\\frac{\\partial}{\\partial r}(\\sin\\theta A_\\theta) - \\frac{\\partial A_r}{\\partial \\theta}\\right)\\hat{\\phi}$$\n",
    "\n",
    "In the code we write this as:\n",
    "\n",
    "$$\\nabla \\times A = \\frac{1}{r\\sin\\theta}\\left(a - b\\right)\\hat{r} + \\frac{1}{r}\\left( c - d \\right)\\hat{\\theta} + \\frac{1}{r}\\left(e-f\\right)\\hat{\\phi}$$"
   ]
  },
  {
   "cell_type": "code",
   "execution_count": 52,
   "metadata": {},
   "outputs": [
    {
     "name": "stdout",
     "output_type": "stream",
     "text": [
      "numerically:  (0.828395536139892+0.828395536139892j) analytically:  (0.8283955115293443+0.8283955115293443j)\n",
      "numerically:  (0.04947668386101611-0.04947663439364147j) analytically:  (0.04947665912864959-0.0494766591286496j)\n",
      "All tests passed\n"
     ]
    }
   ],
   "source": [
    "def dYdtheta(l,m,theta,phi):\n",
    "    a =  m*np.cos(theta)/np.sin(theta)*Y(l,m,theta, phi)+np.sqrt((l-m)*(l+m+1)+0*1j)*np.exp(-1j*phi)*Y(l,m+1,theta, phi)\n",
    "    return a\n",
    "\n",
    "def dYdphi(l,m,theta,phi):\n",
    "    return 1j*m*Y(l,m,theta, phi)\n",
    "\n",
    "\n",
    "delta = 1e-6\n",
    "l, m = 3,1\n",
    "theta, phi = np.pi/3, np.pi/4\n",
    "f = lambda theta: Y(l, m , theta, phi)\n",
    "derivative_numerically = (f(theta+delta)-f(theta))/delta\n",
    "derivative_analytically = dYdtheta(l, m, theta, phi)\n",
    "\n",
    "print('numerically: ', derivative_numerically,'analytically: ', derivative_analytically)\n",
    "assert np.isclose(derivative_numerically, derivative_analytically)\n",
    "derivative_numerically = (Y(l, m, theta, phi+delta)-Y(l, m , theta, phi))/delta\n",
    "derivative_analytically = dYdphi(l, m, theta, phi)\n",
    "\n",
    "print('numerically: ', derivative_numerically,'analytically: ', derivative_analytically)\n",
    "assert np.isclose(derivative_numerically, derivative_analytically)\n",
    "print('All tests passed')"
   ]
  },
  {
   "cell_type": "markdown",
   "metadata": {},
   "source": [
    "First we have to convert the Vector potential A to spherical basis vectors, which is done by: $$A_r = A_x\\sin\\theta\\cos\\phi + A_y\\sin\\theta\\sin\\phi + A_z\\cos\\theta$$\n",
    "$$A_\\theta = A_x\\cos\\theta\\cos\\phi + A_y\\cos\\theta\\sin\\phi - A_z\\sin\\theta$$\n",
    "$$A_\\phi = -A_x\\sin\\phi + A_y\\cos\\phi$$"
   ]
  },
  {
   "cell_type": "markdown",
   "metadata": {},
   "source": [
    "We can rewrite the vector potential as S*I, where S is the spherical harmonic expansion of the scalar potential, and I is the current only depending on the source coordinates. We get: \n",
    "\n",
    "$$A_r = S(r, \\theta, \\phi)(I_x\\sin\\theta\\cos\\phi + I_y\\sin\\theta\\sin\\phi + I_z\\cos\\theta)$$\n",
    "$$A_\\theta = S(r, \\theta, \\phi)(I_x\\cos\\theta\\cos\\phi + I_y\\cos\\theta\\sin\\phi - I_z\\sin\\theta)$$\n",
    "$$A_\\phi = S(r, \\theta, \\phi)(-I_x\\sin\\phi + I_y\\cos\\phi)$$\n"
   ]
  },
  {
   "cell_type": "markdown",
   "metadata": {},
   "source": [
    "So for the curl, we need all partial derivatives of S, which we can get by taking the derivative of the spherical harmonic expansion of the scalar potential."
   ]
  },
  {
   "cell_type": "code",
   "execution_count": 83,
   "metadata": {},
   "outputs": [],
   "source": [
    "def dOdtheta(l, m, r, theta, phi):\n",
    "    pref = np.sqrt(4*np.pi/((2*l+1)*factorial(l-np.abs(m))*factorial(l+np.abs(m))))\n",
    "    return pref*dYdtheta(l, m, theta, phi)*r**l\n",
    "\n",
    "def dOdphi(l, m, r, theta, phi):\n",
    "    pref = np.sqrt(4*np.pi/((2*l+1)*factorial(l-np.abs(m))*factorial(l+np.abs(m))))\n",
    "    return pref*dYdphi(l, m, theta, phi)*r**l\n",
    "\n",
    "def dOdr(l, m, r, theta, phi):\n",
    "    pref = np.sqrt(4*np.pi/((2*l+1)*factorial(l-np.abs(m))*factorial(l+np.abs(m))))\n",
    "    return pref*Y(l, m, theta, phi)*r**(l-1)*l"
   ]
  },
  {
   "cell_type": "code",
   "execution_count": null,
   "metadata": {},
   "outputs": [
    {
     "name": "stdout",
     "output_type": "stream",
     "text": [
      "(np.float64(-1.5270463868059718), np.float64(5.399106063083812), np.float64(-0.00010495454199942223))\n"
     ]
    }
   ],
   "source": [
    "def spherical_approximation_B_field(max_l, y, x, I):\n",
    "    r, theta, phi = cartesian_to_spherical(*y)\n",
    "    rp, phip, thetap = cartesian_to_spherical(*x)\n",
    "    Ix, Iy, Iz = I  \n",
    "\n",
    "    B_r = 0\n",
    "    B_theta = 0\n",
    "    B_phi = 0\n",
    "\n",
    "    for l in range(0, max_l+1):\n",
    "        for m in range(-l, l+1):\n",
    "            O_term = O(l, m, r, theta, phi)\n",
    "            deriv_theta = dOdtheta(l, m, r, theta, phi)\n",
    "            deriv_phi = dOdphi(l, m, r, theta, phi)\n",
    "            deriv_r = dOdr(l, m, r, theta, phi)\n",
    "\n",
    "            M_term = M(l, m, rp, thetap, phip)\n",
    "\n",
    "            # r-component of the magnetic field\n",
    "            a = (np.sin(theta)*deriv_theta+np.cos(theta)*O_term)*(-Ix*np.sin(phi)+Iy*np.cos(phi))\n",
    "            b = deriv_phi*(Ix*np.cos(phi)*np.cos(theta)+Iy*np.sin(phi)*np.cos(theta)-Iz*np.sin(theta))\n",
    "            b+= O_term*(-Ix*np.sin(phi)*np.cos(theta)+Iy*np.cos(phi)*np.cos(theta))\n",
    "\n",
    "            B_r += (a-b)*M_term/(r*np.sin(theta))\n",
    "\n",
    "            # theta-component of the magnetic field\n",
    "\n",
    "            c = deriv_phi*(Ix*np.sin(theta)*np.cos(phi)+Iy*np.sin(theta)*np.sin(phi)+Iz*np.cos(theta))\n",
    "            c+= O_term*(-Ix*np.sin(phi)*np.sin(theta)+Iy*np.cos(phi)*np.sin(theta))\n",
    "            c /= np.sin(theta)\n",
    "\n",
    "            d = deriv_r*np.sin(theta)*(-Ix*np.sin(phi)+Iy*np.cos(phi))\n",
    "            B_theta += (c-d)*M_term/r\n",
    "\n",
    "            # phi-component of the magnetic field\n",
    "\n",
    "            e = deriv_r*np.sin(theta)*(Ix*np.cos(phi)*np.cos(theta)+Iy*np.cos(theta)*np.sin(phi)-Iz*np.sin(theta))\n",
    "            f = deriv_theta*(Ix*np.sin(theta)*np.cos(phi)+Iy*np.sin(theta)*np.sin(phi)+Iz*np.cos(theta))\n",
    "            f += O_term*(Ix*np.cos(phi)*np.cos(theta)+Iy*np.cos(theta)*np.sin(phi)-Iz*np.sin(theta))\n",
    "\n",
    "            B_phi += (e-f)*M_term/r\n",
    "            \n",
    "    return B_r.real, B_theta.real, B_phi.real\n",
    "\n",
    "x = (1, 0, 0)\n",
    "y = (0.1, 0.1, 0.1)\n",
    "I = (1, 3, 1)\n",
    "print(spherical_approximation(50, y, x, I))"
   ]
  },
  {
   "cell_type": "markdown",
   "metadata": {},
   "source": [
    "Now transform from spherical coordinates back to cartesian coordinates, as follows:\n",
    "\n",
    "$$B = B_r \\hat{r} + B_\\theta \\hat{\\theta} + B_\\phi \\hat{\\phi} = $$"
   ]
  },
  {
   "cell_type": "code",
   "execution_count": null,
   "metadata": {},
   "outputs": [],
   "source": []
  }
 ],
 "metadata": {
  "kernelspec": {
   "display_name": ".venv",
   "language": "python",
   "name": "python3"
  },
  "language_info": {
   "codemirror_mode": {
    "name": "ipython",
    "version": 3
   },
   "file_extension": ".py",
   "mimetype": "text/x-python",
   "name": "python",
   "nbconvert_exporter": "python",
   "pygments_lexer": "ipython3",
   "version": "3.10.0"
  }
 },
 "nbformat": 4,
 "nbformat_minor": 2
}
